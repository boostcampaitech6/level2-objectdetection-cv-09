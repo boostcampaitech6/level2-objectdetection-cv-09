{
 "cells": [
  {
   "cell_type": "code",
   "execution_count": 1,
   "metadata": {},
   "outputs": [],
   "source": [
    "import json\n",
    "import random\n",
    "import os\n",
    "\n",
    "import numpy as np\n",
    "import pandas as pd\n",
    "from sklearn.model_selection import StratifiedGroupKFold"
   ]
  },
  {
   "cell_type": "code",
   "execution_count": 35,
   "metadata": {},
   "outputs": [],
   "source": [
    "def random_split_dataset(root_folder, val_ratio, random_seed):\n",
    "    random.seed(random_seed)\n",
    "    input_json = os.path.join(root_folder, 'train.json')\n",
    "\n",
    "    with open(input_json) as f:\n",
    "        data = json.load(f)\n",
    "\n",
    "    images = data['images']\n",
    "    annotations = data['annotations']\n",
    "\n",
    "    image_ids = [x.get('id') for x in images]\n",
    "    random.shuffle(image_ids)\n",
    "\n",
    "    num_val = int(len(image_ids) * val_ratio)\n",
    "\n",
    "    image_ids_val, image_ids_train = set(image_ids[:num_val]), set(image_ids[num_val:])\n",
    "\n",
    "    train_images = [x for x in images if x.get('id') in image_ids_train]\n",
    "    val_images = [x for x in images if x.get('id') in image_ids_val]\n",
    "    train_annotations = [x for x in annotations if x.get('image_id') in image_ids_train]\n",
    "    val_annotations = [x for x in annotations if x.get('image_id') in image_ids_val]\n",
    "\n",
    "    train_data = {\n",
    "        'info' : data['info'],\n",
    "        'licenses': data['licenses'],\n",
    "        'images': train_images,\n",
    "        'annotations': train_annotations,\n",
    "        'categories': data['categories'],\n",
    "    }\n",
    "\n",
    "    val_data = {\n",
    "        'info' : data['info'],\n",
    "        'licenses': data['licenses'],\n",
    "        'images': val_images,\n",
    "        'annotations': val_annotations,\n",
    "        'categories': data['categories'],\n",
    "    }\n",
    "\n",
    "    output_train_path = os.path.join(root_folder, 'train_split.json')\n",
    "    output_valid_path = os.path.join(root_folder, 'val.json')\n",
    "\n",
    "    with open(output_train_path, 'w') as f:\n",
    "        json.dump(train_data, f, indent=4)\n",
    "\n",
    "    with open(output_valid_path, 'w') as f:\n",
    "        json.dump(val_data, f, indent=4)\n"
   ]
  },
  {
   "cell_type": "code",
   "execution_count": 2,
   "metadata": {},
   "outputs": [],
   "source": [
    "random_split_dataset(root_folder='../../dataset/', val_ratio=0.2, random_seed=42)"
   ]
  },
  {
   "cell_type": "code",
   "execution_count": 2,
   "metadata": {},
   "outputs": [],
   "source": [
    "def kfold_split_dataset(input_json, kfold, random_seed):\n",
    "    with open(input_json) as f:\n",
    "        data = json.load(f)\n",
    "\n",
    "    var = [(ann['image_id'], ann['category_id']) for ann in data['annotations']]\n",
    "\n",
    "    X = np.zeros((len(data['annotations']),1))\n",
    "    y = np.array([v[1] for v in var])\n",
    "\n",
    "    groups = np.array([v[0] for v in var])\n",
    "    fold = StratifiedGroupKFold(n_splits=kfold, shuffle=True, random_state=random_seed)\n",
    "    \n",
    "    images = data['images']\n",
    "    annotations = data['annotations']\n",
    "\n",
    "    for idx, (train_idx, val_idx) in enumerate(fold.split(X, y, groups)):\n",
    "        train_ids, val_ids = groups[train_idx], groups[val_idx]\n",
    "        print('images_length : ',len(pd.Series(groups[train_idx]).unique()), len(pd.Series(groups[val_idx]).unique()))\n",
    "        print(\"annotation\", len(y[train_idx]), len(y[val_idx]))\n",
    "        \n",
    "        train_images = [x for x in images if x.get('id') in train_ids]\n",
    "        val_images = [x for x in images if x.get('id') in val_ids]\n",
    "        \n",
    "        train_annotations = [x for x in annotations if x.get('image_id') in train_ids]\n",
    "        val_annotations = [x for x in annotations if x.get('image_id') in val_ids]\n",
    "\n",
    "        train_data = {\n",
    "            'info' : data['info'],\n",
    "            'licenses' : data['licenses'],\n",
    "            'images' : train_images,\n",
    "            'categories' : data['categories'],\n",
    "            'annotations' : train_annotations\n",
    "            }\n",
    "\n",
    "        val_data= {\n",
    "            'info' : data['info'],\n",
    "            'licenses' : data['licenses'],\n",
    "            'images' : val_images,\n",
    "            'categories' : data['categories'],\n",
    "            'annotations' : val_annotations\n",
    "            }\n",
    "\n",
    "        with open(f'../../dataset/train_fold_{idx}.json', 'w') as f:\n",
    "            json.dump(train_data, f, indent=4)\n",
    "\n",
    "        with open(f'../../dataset/val_fold_{idx}.json', 'w') as f:\n",
    "            json.dump(val_data, f, indent=4)\n"
   ]
  },
  {
   "cell_type": "code",
   "execution_count": 3,
   "metadata": {},
   "outputs": [
    {
     "name": "stdout",
     "output_type": "stream",
     "text": [
      "images_length :  3908 975\n",
      "annotation 18808 4336\n",
      "images_length :  3907 976\n",
      "annotation 18052 5092\n",
      "images_length :  3903 980\n",
      "annotation 18438 4706\n",
      "images_length :  3900 983\n",
      "annotation 18573 4571\n",
      "images_length :  3914 969\n",
      "annotation 18705 4439\n"
     ]
    }
   ],
   "source": [
    "kfold_split_dataset(input_json='../../dataset/train.json', kfold=5, random_seed=42)"
   ]
  },
  {
   "cell_type": "code",
   "execution_count": null,
   "metadata": {},
   "outputs": [],
   "source": []
  }
 ],
 "metadata": {
  "kernelspec": {
   "display_name": "naver",
   "language": "python",
   "name": "python3"
  },
  "language_info": {
   "codemirror_mode": {
    "name": "ipython",
    "version": 3
   },
   "file_extension": ".py",
   "mimetype": "text/x-python",
   "name": "python",
   "nbconvert_exporter": "python",
   "pygments_lexer": "ipython3",
   "version": "3.10.13"
  }
 },
 "nbformat": 4,
 "nbformat_minor": 2
}
