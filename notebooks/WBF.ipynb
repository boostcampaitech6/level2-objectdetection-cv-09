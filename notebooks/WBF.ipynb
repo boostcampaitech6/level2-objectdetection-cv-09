{
 "cells": [
  {
   "cell_type": "code",
   "execution_count": null,
   "metadata": {},
   "outputs": [],
   "source": [
    "import pandas as pd\n",
    "import numpy as np\n",
    "from tqdm import tqdm\n",
    "from glob import glob\n",
    "\n",
    "from ensemble_boxes import weighted_boxes_fusion as wbf\n",
    "from pycocotools.coco import COCO"
   ]
  },
  {
   "cell_type": "code",
   "execution_count": null,
   "metadata": {},
   "outputs": [],
   "source": [
    "def weights_box_fusion(submissions, annotation_path, save_pth):\n",
    "    sub_files = sorted(glob(submissions+'/*'))\n",
    "    sub_dfs = [pd.read_csv(sub) for sub in sub_files]\n",
    "    image_ids = sub_dfs[0]['image_id'].tolist()\n",
    "    coco = COCO(annotation_path)\n",
    "\n",
    "    prediction_strings = []\n",
    "    file_names = []\n",
    "\n",
    "    for i, image_id in tqdm(enumerate(image_ids), total=len(image_ids)):\n",
    "        prediction_string = ''\n",
    "        boxes_list = []\n",
    "        scores_list = []\n",
    "        labels_list = []\n",
    "        image_info = coco.loadImgs(i)[0]\n",
    "        \n",
    "        for df in sub_dfs:\n",
    "            predict_string = \\\n",
    "                df[df['image_id'] == image_id]['PredictionString'].tolist()[0]\n",
    "            predict_list = str(predict_string).split()\n",
    "            \n",
    "            if len(predict_list)==0 or len(predict_list)==1:\n",
    "                continue\n",
    "                \n",
    "            predict_list = np.reshape(predict_list, (-1, 6))\n",
    "            box_list = []\n",
    "            \n",
    "            for box in predict_list[:, 2:6].tolist():\n",
    "                box[0] = float(box[0]) / image_info['width']\n",
    "                box[1] = float(box[1]) / image_info['height']\n",
    "                box[2] = float(box[2]) / image_info['width']\n",
    "                box[3] = float(box[3]) / image_info['height']\n",
    "                box_list.append(box)\n",
    "                \n",
    "            boxes_list.append(box_list)\n",
    "            scores_list.append(list(map(float, predict_list[:, 1].tolist())))\n",
    "            labels_list.append(list(map(int, predict_list[:, 0].tolist())))\n",
    "        \n",
    "        if len(boxes_list):\n",
    "            boxes, scores, labels = wbf(\n",
    "                boxes_list, scores_list, labels_list,\n",
    "                weights=None, iou_thr=0.55, skip_box_thr=0.001\n",
    "            )\n",
    "\n",
    "        for box, score, label in zip(boxes, scores, labels):\n",
    "            prediction_string += str(int(label)) + ' ' + str(score) + \\\n",
    "                ' ' + str(box[0] * image_info['width']) + ' ' + \\\n",
    "                str(box[1] * image_info['height']) + ' ' + \\\n",
    "                str(box[2] * image_info['width']) + ' ' + \\\n",
    "                str(box[3] * image_info['height']) + ' '\n",
    "\n",
    "        prediction_strings.append(prediction_string)\n",
    "        file_names.append(image_id)\n",
    "\n",
    "    submission = pd.DataFrame()\n",
    "    submission['PredictionString'] = prediction_strings\n",
    "    submission['image_id'] = file_names\n",
    "    submission.to_csv(save_pth, index=False)\n"
   ]
  },
  {
   "cell_type": "code",
   "execution_count": null,
   "metadata": {},
   "outputs": [],
   "source": [
    "weights_box_fusion('../results', '../../dataset/test.json', '../results/ensemble.csv')"
   ]
  },
  {
   "cell_type": "code",
   "execution_count": null,
   "metadata": {},
   "outputs": [],
   "source": []
  }
 ],
 "metadata": {
  "language_info": {
   "name": "python"
  }
 },
 "nbformat": 4,
 "nbformat_minor": 2
}
